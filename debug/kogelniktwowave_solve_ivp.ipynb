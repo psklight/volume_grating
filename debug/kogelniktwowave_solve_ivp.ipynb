{
 "cells": [
  {
   "cell_type": "code",
   "execution_count": null,
   "metadata": {},
   "outputs": [],
   "source": [
    "import os\n",
    "import sys\n",
    "module_path = os.path.abspath(os.path.join('..'))\n",
    "if module_path not in sys.path:\n",
    "    sys.path.append(module_path)\n",
    "\n",
    "import volume_grating as vg\n",
    "import volume_grating.utilities\n",
    "from volume_grating.utilities.geometry import cartersian_to_spherical, spherical_to_cartesian, point_to_ndarray, vector_to_ndarray\n",
    "from volume_grating.utilities.surface_fitting import *\n",
    "from volume_grating.utilities.validation import validate_input_numeric\n",
    "import matplotlib.pyplot as plt\n",
    "from tqdm import tqdm\n",
    "\n",
    "from volume_grating import *\n",
    "\n",
    "from volume_grating.routines import sweep\n",
    "\n",
    "import importlib\n",
    "\n",
    "# GCS = vec.CoordSys3D('GCS')"
   ]
  },
  {
   "cell_type": "code",
   "execution_count": null,
   "metadata": {},
   "outputs": [],
   "source": [
    "mat_lib = materials.cauchy_dict\n",
    "pp_org = materials.Cauchy_2coeff(mat_lib['pp_original'])\n",
    "air = materials.air"
   ]
  },
  {
   "cell_type": "markdown",
   "metadata": {},
   "source": [
    "## Estimate dn from analytical reflection\n",
    "\n",
    "$R=tanh^2(\\frac{\\pi \\cdot \\delta n \\cdot d \\cos\\theta}{\\lambda}) = 0.99$"
   ]
  },
  {
   "cell_type": "code",
   "execution_count": null,
   "metadata": {},
   "outputs": [],
   "source": [
    "dn = np.arctanh(np.sqrt(0.99))*660e-9/np.pi/70e-6\n",
    "print('dn =', dn)"
   ]
  },
  {
   "cell_type": "markdown",
   "metadata": {},
   "source": [
    "# Define HOE"
   ]
  },
  {
   "cell_type": "code",
   "execution_count": null,
   "metadata": {},
   "outputs": [],
   "source": [
    "thickness = 50e-6\n",
    "dn = 0.01"
   ]
  },
  {
   "cell_type": "code",
   "execution_count": null,
   "metadata": {},
   "outputs": [],
   "source": [
    "src1 = sources.Planewave(material=pp_org, direction=[0,0,-1], wavelength=660e-9)\n",
    "src2 = sources.Planewave(material=pp_org, direction=[-1,0,1], wavelength=660e-9)\n",
    "recording = illumination.Record(src1, src2)"
   ]
  },
  {
   "cell_type": "code",
   "execution_count": null,
   "metadata": {},
   "outputs": [],
   "source": [
    "hoe = holograms.Hologram(thickness=thickness, material=pp_org, dn=dn, recording=recording)"
   ]
  },
  {
   "cell_type": "markdown",
   "metadata": {},
   "source": [
    "### Define playback"
   ]
  },
  {
   "cell_type": "code",
   "execution_count": null,
   "metadata": {},
   "outputs": [],
   "source": [
    "src3 = sources.Planewave(material=pp_org, direction=[0,0,-1], wavelength=660e-9)"
   ]
  },
  {
   "cell_type": "code",
   "execution_count": null,
   "metadata": {},
   "outputs": [],
   "source": [
    "playback = illumination.Playback(src3)"
   ]
  },
  {
   "cell_type": "markdown",
   "metadata": {},
   "source": [
    "# Define solver and engine"
   ]
  },
  {
   "cell_type": "code",
   "execution_count": null,
   "metadata": {},
   "outputs": [],
   "source": [
    "wavelengths = np.linspace(650, 670, 101)*1e-9"
   ]
  },
  {
   "cell_type": "code",
   "execution_count": null,
   "metadata": {},
   "outputs": [],
   "source": [
    "ka = engines.KogelnikAnalytical()\n",
    "kt = engines.KogelnikTwoWave()"
   ]
  },
  {
   "cell_type": "code",
   "execution_count": null,
   "metadata": {},
   "outputs": [],
   "source": [
    "solver = solvers.Response(hoe, playback=playback, engine=ka, order=1)"
   ]
  },
  {
   "cell_type": "code",
   "execution_count": null,
   "metadata": {
    "scrolled": true
   },
   "outputs": [],
   "source": [
    "DE, caches = solver.get_efficiency_at_points([GCS.origin], wavelengths=wavelengths, analytical_aid=True, tol=0.01, \n",
    "                                     max_nodes=int(1e6))\n",
    "plt.plot(wavelengths/1e-9, DE[0], '.-')"
   ]
  },
  {
   "cell_type": "code",
   "execution_count": null,
   "metadata": {
    "scrolled": true
   },
   "outputs": [],
   "source": [
    "caches[0][\"r_d\"]"
   ]
  },
  {
   "cell_type": "code",
   "execution_count": null,
   "metadata": {},
   "outputs": [],
   "source": [
    "plt.plot(wavelengths/1e-9, np.abs(caches[0][\"r_d\"])**2)"
   ]
  },
  {
   "cell_type": "code",
   "execution_count": null,
   "metadata": {},
   "outputs": [],
   "source": [
    "solver = solvers.Response(hoe, playback=playback, engine=kt, order=1)"
   ]
  },
  {
   "cell_type": "code",
   "execution_count": null,
   "metadata": {},
   "outputs": [],
   "source": [
    "param = solver.extract_params(wavelengths=662e-9)\n",
    "param"
   ]
  },
  {
   "cell_type": "code",
   "execution_count": null,
   "metadata": {},
   "outputs": [],
   "source": [
    "from scipy.integrate import solve_ivp\n",
    "\n",
    "from volume_grating.engines import KogelnikTwoWave"
   ]
  },
  {
   "cell_type": "code",
   "execution_count": null,
   "metadata": {},
   "outputs": [],
   "source": [
    "mesh_number = 2\n",
    "analytical_aid = False"
   ]
  },
  {
   "cell_type": "code",
   "execution_count": null,
   "metadata": {},
   "outputs": [],
   "source": [
    "\n",
    "mode = param['mode']\n",
    "k_r = param['k_r']/1e6  # reference wave vector, now in 1/um unit\n",
    "k_d = param['k_d']/1e6  # diffracted wave vector, now in 1/um unit\n",
    "K = param['K']/1e6  # grating vector, now in 1/um unit\n",
    "thickness = param['thickness']/1e-6  # now in um\n",
    "n0 = param['n0']\n",
    "dn = param['dn']\n",
    "# wavelengths = param['wavelength']/1e-6  # now in um\n",
    "wavelengths = np.array([661e-9])/1e-6\n",
    "\n",
    "# pre-define ``matrix`` that will be updated later.\n",
    "global matrix\n",
    "matrix = np.ndarray(shape=(2, 2), dtype=np.complex)\n",
    "\n",
    "# from approximation of (n0+dn)^2 ~ n0^2 + 2*n0*dn, so ep0 = n0^2, ep1~n0*dn\n",
    "ep0 = n0 ** 2\n",
    "ep1 = 2 * dn * n0\n",
    "\n",
    "z = np.linspace(0.0, thickness, mesh_number)\n",
    "\n",
    "efficiency = np.zeros_like(wavelengths)*np.nan\n",
    "\n",
    "def _rhs(x, y):\n",
    "    \"\"\"\n",
    "    A function to compute a state [dAr/dz, dAd/dz].\n",
    "\n",
    "    :param x: indendent variable of the problem, i.e. z. But it is not needed for uniform gratings.\n",
    "    :param y: current state, i.e. [Ar, Ad]\n",
    "    :return [dAr/dz, dAd/dz]: (2,) ndarray\n",
    "    \"\"\"\n",
    "    matrix_h = np.reshape(matrix, newshape=(2, 2))\n",
    "    dy = np.matmul(matrix_h, y)\n",
    "    return dy\n",
    "\n",
    "if analytical_aid:\n",
    "    eff_anlt, _, caches_anlt = KogelnikAnalytical.solve(param, **kwarg)\n",
    "    s_anlt = caches_anlt[\"s\"]\n",
    "\n",
    "for i, wavelength in enumerate(wavelengths):\n",
    "    k0 = 2 * np.pi / wavelength  # free space wavenumber\n",
    "    beta = k0 * n0[i]\n",
    "\n",
    "    gamma0 = k0**2 * ep0[i]\n",
    "    gamma = k0**2 * ep1[i] / 2\n",
    "\n",
    "    kz_r = k_r[i][-1]\n",
    "    kz_d = k_d[i][-1]\n",
    "\n",
    "    matrix = np.reshape(matrix, newshape=(2, 2))\n",
    "    \n",
    "    matrix[0, 0] = -(gamma0 - np.sum(k_r**2)) / 2 / 1j / kz_r\n",
    "    \n",
    "    matrix[0, 1] = -gamma/2/1j/kz_r\n",
    "    matrix[1, 0] = -gamma/2/1j/kz_d\n",
    "\n",
    "    matrix[1, 1] = -(gamma0 - np.sum(k_d[i]**2)) / 2 / 1j / kz_d\n",
    "    \n",
    "    matrix = np.reshape(matrix, newshape=(matrix.size,))\n",
    "\n",
    "    y_guess = np.ndarray(shape=(2,), dtype=np.complex)\n",
    "\n",
    "    if mode == \"transmission\":\n",
    "        print(\"Transmission not doing anything yet.\")\n",
    "\n",
    "    if mode == \"reflection\":\n",
    "        y_guess[0] = np.array([1.0], dtype=np.complex)\n",
    "        y_guess[1] = np.array([.5], dtype=np.complex)\n",
    "    \n",
    "        result_detail = solve_ivp(_rhs,\n",
    "                                 t_span=z,\n",
    "                                 y0=y_guess)\n",
    "        # diffracted wave solution\n",
    "#         s_wave_sol = result_detail.y[1]\n",
    "        "
   ]
  },
  {
   "cell_type": "code",
   "execution_count": null,
   "metadata": {},
   "outputs": [],
   "source": [
    "np.reshape(matrix, (2,2))"
   ]
  },
  {
   "cell_type": "code",
   "execution_count": null,
   "metadata": {},
   "outputs": [],
   "source": [
    "from scipy.optimize import minimize, least_squares, leastsq"
   ]
  },
  {
   "cell_type": "code",
   "execution_count": null,
   "metadata": {},
   "outputs": [],
   "source": [
    "bv = np.zeros(shape=(2, 2), dtype=np.complex)*np.nan\n",
    "bv[0, 0] = 1\n",
    "bv[1, 1] = 0.0\n",
    "\n",
    "def find_solution(rhs, t_span, y0, max_step=0.01):\n",
    "    iv = np.array([1, y0], dtype=np.complex)\n",
    "    result_detail = solve_ivp(rhs, t_span=t_span, y0=iv, max_step=max_step)\n",
    "    solutions = result_detail.y\n",
    "    return solutions, result_detail.t\n",
    "\n",
    "def get_boundary_values(solutions):\n",
    "    bv = np.zeros(shape=(solutions.shape[0], 2), dtype=np.complex)\n",
    "    for i in range(solutions.shape[0]):\n",
    "        bv[i][0] = solutions[i][0]\n",
    "        bv[i][-1] = solutions[i][-1]\n",
    "    return bv\n",
    "\n",
    "def loss_func(x, rhs, t_span, bv):\n",
    "        \n",
    "    sol, _ = find_solution(rhs, t_span, x)\n",
    "    bv_sol = get_boundary_values(sol)\n",
    "    loss = np.nansum(np.abs(bv-bv_sol)**2)\n",
    "\n",
    "    return loss\n",
    "\n",
    "def solve_bvp_by_shooting(rhs, t_span, bv, y20 = 0.01):\n",
    "    \n",
    "    result = minimize(fun=loss_func, x0=y20, args=(rhs, t_span, bv))\n",
    "#     result = leastsq(func=loss_func, x0=y20, args=(rhs, t_span, bv))\n",
    "    \n",
    "    return result"
   ]
  },
  {
   "cell_type": "code",
   "execution_count": null,
   "metadata": {},
   "outputs": [],
   "source": [
    "z = np.linspace(0, thickness, 2)\n",
    "\n",
    "sol, z_span = find_solution(_rhs, z, -0.2*1j)\n",
    "\n",
    "plt.plot(z_span, np.abs(sol[0])**2)\n",
    "plt.plot(z_span, np.abs(sol[1])**2)\n",
    "\n",
    "plt.ylim(bottom=0)\n",
    "plt.show()"
   ]
  },
  {
   "cell_type": "code",
   "execution_count": null,
   "metadata": {},
   "outputs": [],
   "source": []
  },
  {
   "cell_type": "code",
   "execution_count": null,
   "metadata": {},
   "outputs": [],
   "source": [
    "bvals = get_boundary_values(sol)\n",
    "bvals"
   ]
  },
  {
   "cell_type": "code",
   "execution_count": null,
   "metadata": {
    "scrolled": true
   },
   "outputs": [],
   "source": [
    "result = solve_bvp_by_shooting(_rhs, z, bv, y20=0.5)"
   ]
  },
  {
   "cell_type": "code",
   "execution_count": null,
   "metadata": {},
   "outputs": [],
   "source": [
    "loss = loss_func(result.x, _rhs, z, bv)\n",
    "loss"
   ]
  },
  {
   "cell_type": "code",
   "execution_count": null,
   "metadata": {},
   "outputs": [],
   "source": [
    "z = np.linspace(0, thickness, 2)\n",
    "\n",
    "sol, z_span = find_solution(_rhs, z, result.x)\n",
    "\n",
    "plt.plot(z_span, np.abs(sol[0])**2)\n",
    "plt.plot(z_span, np.abs(sol[1])**2)\n",
    "\n",
    "plt.ylim(bottom=0)\n",
    "plt.show()"
   ]
  },
  {
   "cell_type": "code",
   "execution_count": null,
   "metadata": {},
   "outputs": [],
   "source": []
  },
  {
   "cell_type": "code",
   "execution_count": null,
   "metadata": {},
   "outputs": [],
   "source": []
  },
  {
   "cell_type": "code",
   "execution_count": null,
   "metadata": {},
   "outputs": [],
   "source": []
  },
  {
   "cell_type": "code",
   "execution_count": null,
   "metadata": {},
   "outputs": [],
   "source": [
    "break"
   ]
  },
  {
   "cell_type": "code",
   "execution_count": null,
   "metadata": {
    "scrolled": true
   },
   "outputs": [],
   "source": [
    "# DE, _ = solver.get_efficiency_at_points([GCS.origin], wavelengths=wavelengths, analytical_aid=True, tol=0.001, \n",
    "#                                      max_nodes=int(1e6))\n",
    "\n",
    "# plt.plot(wavelengths/1e-9, DE[0], '.-')"
   ]
  },
  {
   "cell_type": "code",
   "execution_count": null,
   "metadata": {},
   "outputs": [],
   "source": [
    "def get_bandwidth_spectral_at_points(points:Callable):\n",
    "    pass"
   ]
  },
  {
   "cell_type": "code",
   "execution_count": null,
   "metadata": {},
   "outputs": [],
   "source": [
    "kt.solve_default"
   ]
  },
  {
   "cell_type": "code",
   "execution_count": null,
   "metadata": {},
   "outputs": [],
   "source": []
  },
  {
   "cell_type": "code",
   "execution_count": null,
   "metadata": {},
   "outputs": [],
   "source": []
  },
  {
   "cell_type": "code",
   "execution_count": null,
   "metadata": {},
   "outputs": [],
   "source": []
  },
  {
   "cell_type": "code",
   "execution_count": null,
   "metadata": {},
   "outputs": [],
   "source": [
    "break"
   ]
  },
  {
   "cell_type": "code",
   "execution_count": null,
   "metadata": {},
   "outputs": [],
   "source": [
    "K_mag = solver.get_k_hologram_at_points([GCS.origin])[0].magnitude()\n",
    "bw_spectral = np.pi*(4*np.pi*pp_org.n(660e-9))/hoe.thickness/K_mag**2 * 2 * 2\n",
    "\n",
    "bw_spectral"
   ]
  },
  {
   "cell_type": "code",
   "execution_count": null,
   "metadata": {},
   "outputs": [],
   "source": []
  },
  {
   "cell_type": "code",
   "execution_count": null,
   "metadata": {},
   "outputs": [],
   "source": [
    "def update_angle(angle, solver):\n",
    "    src = solver.playback.source\n",
    "    \n",
    "    src.direction = [-np.sin(np.deg2rad(angle)), 0, -np.cos(np.deg2rad(angle))]\n",
    "    \n",
    "    return solver"
   ]
  },
  {
   "cell_type": "code",
   "execution_count": null,
   "metadata": {
    "scrolled": true
   },
   "outputs": [],
   "source": [
    "angles = np.linspace(-5, 5, 201)\n",
    "\n",
    "solver_funcs = [solvers.Response.get_efficiency_at_points]\n",
    "\n",
    "DE = sweep(angles, [GCS.origin], update_func=update_angle, solver=solver, solver_funcs=solver_funcs, verbose=True)"
   ]
  },
  {
   "cell_type": "code",
   "execution_count": null,
   "metadata": {},
   "outputs": [],
   "source": [
    "plt.plot(angles, -DE.squeeze())"
   ]
  },
  {
   "cell_type": "code",
   "execution_count": null,
   "metadata": {},
   "outputs": [],
   "source": []
  }
 ],
 "metadata": {
  "kernelspec": {
   "display_name": "Python 3",
   "language": "python",
   "name": "python3"
  },
  "language_info": {
   "codemirror_mode": {
    "name": "ipython",
    "version": 3
   },
   "file_extension": ".py",
   "mimetype": "text/x-python",
   "name": "python",
   "nbconvert_exporter": "python",
   "pygments_lexer": "ipython3",
   "version": "3.7.2"
  }
 },
 "nbformat": 4,
 "nbformat_minor": 2
}
