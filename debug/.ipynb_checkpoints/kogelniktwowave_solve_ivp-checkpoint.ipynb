{
 "cells": [
  {
   "cell_type": "code",
   "execution_count": 1,
   "metadata": {},
   "outputs": [],
   "source": [
    "import os\n",
    "import sys\n",
    "module_path = os.path.abspath(os.path.join('..'))\n",
    "if module_path not in sys.path:\n",
    "    sys.path.append(module_path)\n",
    "\n",
    "import volume_grating as vg\n",
    "import volume_grating.utilities\n",
    "from volume_grating.utilities.geometry import cartersian_to_spherical, spherical_to_cartesian, point_to_ndarray, vector_to_ndarray\n",
    "from volume_grating.utilities.surface_fitting import *\n",
    "from volume_grating.utilities.validation import validate_input_numeric\n",
    "import matplotlib.pyplot as plt\n",
    "from tqdm import tqdm\n",
    "\n",
    "from volume_grating import *\n",
    "\n",
    "from volume_grating.routines import sweep\n",
    "\n",
    "import importlib\n",
    "\n",
    "# GCS = vec.CoordSys3D('GCS')"
   ]
  },
  {
   "cell_type": "code",
   "execution_count": 2,
   "metadata": {},
   "outputs": [],
   "source": [
    "mat_lib = materials.cauchy_dict\n",
    "pp_org = materials.Cauchy_2coeff(mat_lib['pp_original'])\n",
    "air = materials.air"
   ]
  },
  {
   "cell_type": "markdown",
   "metadata": {},
   "source": [
    "## Estimate dn from analytical reflection\n",
    "\n",
    "$R=tanh^2(\\frac{\\pi \\cdot \\delta n \\cdot d \\cos\\theta}{\\lambda}) = 0.99$"
   ]
  },
  {
   "cell_type": "code",
   "execution_count": 3,
   "metadata": {},
   "outputs": [
    {
     "name": "stdout",
     "output_type": "stream",
     "text": [
      "dn = 0.008983282849890273\n"
     ]
    }
   ],
   "source": [
    "dn = np.arctanh(np.sqrt(0.99))*660e-9/np.pi/70e-6\n",
    "print('dn =', dn)"
   ]
  },
  {
   "cell_type": "markdown",
   "metadata": {},
   "source": [
    "# Define HOE"
   ]
  },
  {
   "cell_type": "code",
   "execution_count": 4,
   "metadata": {},
   "outputs": [],
   "source": [
    "thickness = 50e-6\n",
    "dn = 0.01"
   ]
  },
  {
   "cell_type": "code",
   "execution_count": 5,
   "metadata": {},
   "outputs": [],
   "source": [
    "src1 = sources.Planewave(material=pp_org, direction=[0,0,-1], wavelength=660e-9)\n",
    "src2 = sources.Planewave(material=pp_org, direction=[-1,0,1], wavelength=660e-9)\n",
    "recording = illumination.Record(src1, src2)"
   ]
  },
  {
   "cell_type": "code",
   "execution_count": 6,
   "metadata": {},
   "outputs": [],
   "source": [
    "hoe = holograms.Hologram(thickness=thickness, material=pp_org, dn=dn, recording=recording)"
   ]
  },
  {
   "cell_type": "markdown",
   "metadata": {},
   "source": [
    "### Define playback"
   ]
  },
  {
   "cell_type": "code",
   "execution_count": 7,
   "metadata": {},
   "outputs": [],
   "source": [
    "src3 = sources.Planewave(material=pp_org, direction=[0,0,-1], wavelength=660e-9)"
   ]
  },
  {
   "cell_type": "code",
   "execution_count": 8,
   "metadata": {},
   "outputs": [],
   "source": [
    "playback = illumination.Playback(src3)"
   ]
  },
  {
   "cell_type": "markdown",
   "metadata": {},
   "source": [
    "# Define solver and engine"
   ]
  },
  {
   "cell_type": "code",
   "execution_count": 9,
   "metadata": {},
   "outputs": [],
   "source": [
    "wavelengths = np.linspace(650, 670, 101)*1e-9"
   ]
  },
  {
   "cell_type": "code",
   "execution_count": 10,
   "metadata": {},
   "outputs": [],
   "source": [
    "ka = engines.KogelnikAnalytical()\n",
    "kt = engines.KogelnikTwoWave()"
   ]
  },
  {
   "cell_type": "code",
   "execution_count": 11,
   "metadata": {},
   "outputs": [],
   "source": [
    "solver = solvers.Response(hoe, playback=playback, engine=ka, order=1)"
   ]
  },
  {
   "cell_type": "code",
   "execution_count": 12,
   "metadata": {
    "scrolled": true
   },
   "outputs": [
    {
     "name": "stderr",
     "output_type": "stream",
     "text": [
      "100%|████████████████████████████████████████████████████████████████████████████████████| 1/1 [00:00<00:00, 47.74it/s]\n"
     ]
    },
    {
     "data": {
      "text/plain": [
       "[<matplotlib.lines.Line2D at 0x1bfbc3cc080>]"
      ]
     },
     "execution_count": 12,
     "metadata": {},
     "output_type": "execute_result"
    },
    {
     "data": {
      "image/png": "[encoded data removed]",
      "text/plain": [
       "<Figure size 432x288 with 1 Axes>"
      ]
     },
     "metadata": {
      "needs_background": "light"
     },
     "output_type": "display_data"
    }
   ],
   "source": [
    "DE, caches = solver.get_efficiency_at_points([GCS.origin], wavelengths=wavelengths, analytical_aid=True, tol=0.01, \n",
    "                                     max_nodes=int(1e6))\n",
    "plt.plot(wavelengths/1e-9, DE[0], '.-')"
   ]
  },
  {
   "cell_type": "code",
   "execution_count": 13,
   "metadata": {
    "scrolled": true
   },
   "outputs": [
    {
     "data": {
      "text/plain": [
       "array([ 0.93983349-2.93593748e-01j,  0.94408796-3.00567900e-01j,\n",
       "        0.94667022-3.11572637e-01j,  0.94545197-3.25243642e-01j,\n",
       "        0.93943297-3.39052276e-01j,  0.92936241-3.50238256e-01j,\n",
       "        0.91755026-3.56999595e-01j,  0.90692979-3.59231511e-01j,\n",
       "        0.89996888-3.58479659e-01j,  0.89794546-3.57362434e-01j,\n",
       "        0.90064527-3.58869196e-01j,  0.90629543-3.65674319e-01j,\n",
       "        0.91169195-3.79351432e-01j,  0.91279879-3.99454469e-01j,\n",
       "        0.90616331-4.22926194e-01j,  0.89083063-4.44747904e-01j,\n",
       "        0.86938435-4.60139262e-01j,  0.84692953-4.66981151e-01j,\n",
       "        0.82871941-4.66651523e-01j,  0.81824106-4.63112480e-01j,\n",
       "        0.81652616-4.61517617e-01j,  0.82207101-4.67232561e-01j,\n",
       "        0.83056301-4.85026122e-01j,  0.8344518 -5.17459576e-01j,\n",
       "        0.82390803-5.61843428e-01j,  0.79159349-6.07744299e-01j,\n",
       "        0.73986104-6.40402065e-01j,  0.68186154-6.50787515e-01j,\n",
       "        0.63280869-6.41852859e-01j,  0.60147514-6.24679594e-01j,\n",
       "        0.58924834-6.12140160e-01j,  0.59241504-6.17139304e-01j,\n",
       "        0.60092458-6.54718012e-01j,  0.58776707-7.41380915e-01j,\n",
       "        0.4908717 -8.67792576e-01j,  0.26389132-9.25736438e-01j,\n",
       "        0.03852422-8.05394597e-01j, -0.05217167-6.15357056e-01j,\n",
       "       -0.05370052-4.64234023e-01j, -0.02713624-3.61062520e-01j,\n",
       "        0.00288942-2.89657283e-01j,  0.02949563-2.37288137e-01j,\n",
       "        0.05149311-1.96431491e-01j,  0.06923105-1.62790593e-01j,\n",
       "        0.08335366-1.33844633e-01j,  0.0944584 -1.08046384e-01j,\n",
       "        0.10302203-8.43960887e-02j,  0.1094016 -6.22110474e-02j,\n",
       "        0.11385233-4.09960529e-02j,  0.11654523-2.03666035e-02j,\n",
       "        0.11758034+1.47800373e-14j,  0.11699483+2.03992606e-02j,\n",
       "        0.11476641+4.11280303e-02j,  0.11081216+6.25130570e-02j,\n",
       "        0.10498326+8.49455162e-02j,  0.09705595+1.08929455e-01j,\n",
       "        0.08672053+1.35156896e-01j,  0.07357477+1.64632298e-01j,\n",
       "        0.05714182+1.98888660e-01j,  0.03697398+2.40374669e-01j,\n",
       "        0.01302919+2.93152291e-01j, -0.01311366+3.64076118e-01j,\n",
       "       -0.03456137+4.64178847e-01j, -0.02931301+6.06563394e-01j,\n",
       "        0.05381976+7.83502254e-01j,  0.25811585+9.08119601e-01j,\n",
       "        0.48574468+8.74088416e-01j,  0.60241607+7.53553716e-01j,\n",
       "        0.62810957+6.57318874e-01j,  0.6227668 +6.07743128e-01j,\n",
       "        0.61701056+5.92248109e-01j,  0.62249076+5.96717206e-01j,\n",
       "        0.64353402+6.09717457e-01j,  0.68058355+6.20839305e-01j,\n",
       "        0.72953675+6.20357173e-01j,  0.7809297 +6.01998289e-01j,\n",
       "        0.82283316+5.67032181e-01j,  0.847375  +5.24404732e-01j,\n",
       "        0.85478947+4.85042102e-01j,  0.85121989+4.55926509e-01j,\n",
       "        0.84400262+4.38698877e-01j,  0.83879371+4.31432525e-01j,\n",
       "        0.83895401+4.30632421e-01j,  0.84584097+4.32381759e-01j,\n",
       "        0.8591017 +4.32910308e-01j,  0.87681756+4.29096483e-01j,\n",
       "        0.89579179+4.19144489e-01j,  0.91233348+4.03224834e-01j,\n",
       "        0.92350143+3.83531250e-01j,  0.92818568+3.63427604e-01j,\n",
       "        0.92732511+3.46086052e-01j,  0.92321502+3.33437418e-01j,\n",
       "        0.91849337+3.25880821e-01j,  0.91537073+3.22581058e-01j,\n",
       "        0.91525966+3.21961231e-01j,  0.91867946+3.22149852e-01j,\n",
       "        0.92528904+3.21344610e-01j,  0.9340003 +3.18139135e-01j,\n",
       "        0.94321049+3.11823322e-01j,  0.95119205+3.02577671e-01j,\n",
       "        0.95657905+2.91432901e-01j])"
      ]
     },
     "execution_count": 13,
     "metadata": {},
     "output_type": "execute_result"
    }
   ],
   "source": [
    "caches[0][\"r_d\"]"
   ]
  },
  {
   "cell_type": "code",
   "execution_count": 14,
   "metadata": {},
   "outputs": [
    {
     "data": {
      "text/plain": [
       "[<matplotlib.lines.Line2D at 0x1bfbc9edcc0>]"
      ]
     },
     "execution_count": 14,
     "metadata": {},
     "output_type": "execute_result"
    },
    {
     "data": {
      "image/png": "[encoded data removed]",
      "text/plain": [
       "<Figure size 432x288 with 1 Axes>"
      ]
     },
     "metadata": {
      "needs_background": "light"
     },
     "output_type": "display_data"
    }
   ],
   "source": [
    "plt.plot(wavelengths/1e-9, np.abs(caches[0][\"r_d\"])**2)"
   ]
  },
  {
   "cell_type": "code",
   "execution_count": 15,
   "metadata": {},
   "outputs": [],
   "source": [
    "solver = solvers.Response(hoe, playback=playback, engine=kt, order=1)"
   ]
  },
  {
   "cell_type": "code",
   "execution_count": 16,
   "metadata": {},
   "outputs": [],
   "source": [
    "param = solver.extract_params()"
   ]
  },
  {
   "cell_type": "code",
   "execution_count": 17,
   "metadata": {},
   "outputs": [
    {
     "data": {
      "text/plain": [
       "{'mode': 'reflection',\n",
       " 'thickness': 5e-05,\n",
       " 'n0': array([1.49830909]),\n",
       " 'dn': 0.01,\n",
       " 'k_r': array([[        0.        ,         0.        , -14263869.19032364]]),\n",
       " 'k_d': array([[-10086078.63043572,         0.        ,  10086078.63043572]]),\n",
       " 'K': array([[ 10086078.63043572,         0.        , -24349947.82075936]]),\n",
       " 'order': 1,\n",
       " 'wavelength': array([6.6e-07])}"
      ]
     },
     "execution_count": 17,
     "metadata": {},
     "output_type": "execute_result"
    }
   ],
   "source": [
    "param"
   ]
  },
  {
   "cell_type": "code",
   "execution_count": 18,
   "metadata": {},
   "outputs": [],
   "source": [
    "from scipy.integrate import solve_ivp\n",
    "\n",
    "from volume_grating.engines import KogelnikTwoWave"
   ]
  },
  {
   "cell_type": "code",
   "execution_count": 19,
   "metadata": {},
   "outputs": [],
   "source": [
    "mesh_number = 2\n",
    "analytical_aid = False"
   ]
  },
  {
   "cell_type": "code",
   "execution_count": 20,
   "metadata": {},
   "outputs": [],
   "source": [
    "\n",
    "mode = param['mode']\n",
    "k_r = param['k_r']/1e6  # reference wave vector, now in 1/um unit\n",
    "k_d = param['k_d']/1e6  # diffracted wave vector, now in 1/um unit\n",
    "K = param['K']/1e6  # grating vector, now in 1/um unit\n",
    "thickness = param['thickness']/1e-6  # now in um\n",
    "n0 = param['n0']\n",
    "dn = param['dn']\n",
    "wavelengths = param['wavelength']/1e-6  # now in um\n",
    "\n",
    "# pre-define ``matrix`` that will be updated later.\n",
    "global matrix\n",
    "matrix = np.ndarray(shape=(2, 2), dtype=np.complex)\n",
    "\n",
    "# from approximation of (n0+dn)^2 ~ n0^2 + 2*n0*dn, so ep0 = n0^2, ep1~n0*dn\n",
    "ep0 = n0 ** 2\n",
    "ep1 = 2*dn * n0\n",
    "\n",
    "z = np.linspace(0.0, thickness, mesh_number)\n",
    "\n",
    "efficiency = np.zeros_like(wavelengths)*np.nan\n",
    "\n",
    "def _rhs(x, y):\n",
    "    \"\"\"\n",
    "    A function to compute a state [dAr/dz, dAd/dz].\n",
    "\n",
    "    :param x: indendent variable of the problem, i.e. z. But it is not needed for uniform gratings.\n",
    "    :param y: current state, i.e. [Ar, Ad]\n",
    "    :return [dAr/dz, dAd/dz]: (2,) ndarray\n",
    "    \"\"\"\n",
    "    matrix_h = np.reshape(matrix, newshape=(2, 2))\n",
    "    dy = np.matmul(matrix_h, y)\n",
    "    return dy\n",
    "\n",
    "if analytical_aid:\n",
    "    eff_anlt, _, caches_anlt = KogelnikAnalytical.solve(param, **kwarg)\n",
    "    s_anlt = caches_anlt[\"s\"]\n",
    "\n",
    "for i, wavelength in enumerate(wavelengths):\n",
    "    k0 = 2 * np.pi / wavelength  # free space wavenumber\n",
    "    beta = k0 * n0[i]\n",
    "\n",
    "    gamma0 = k0**2*ep0[i]\n",
    "    gamma = k0**2*ep1[i] / 2\n",
    "    # kz_r = float(k_r[i].dot(GCS.k))\n",
    "    # kz_d = float(k_d[i].dot(GCS.k))\n",
    "    kz_r = k_r[i][-1]\n",
    "    kz_d = k_d[i][-1]\n",
    "\n",
    "    matrix = np.reshape(matrix, newshape=(2, 2))\n",
    "    matrix[0, 0] = -(gamma0 - beta**2) / 2 / 1j / kz_r\n",
    "    matrix[0, 1] = -np.conj(gamma)/2/1j/kz_r\n",
    "    matrix[1, 0] = -gamma/2/1j/kz_d\n",
    "    # matrix[1, 1] = -(gamma0-(float(k_d.magnitude()))**2)/2/1j/kz_d\n",
    "    matrix[1, 1] = -(gamma0 - np.sum(np.array(k_d[i])**2)) / 2 / 1j / kz_d\n",
    "    matrix = np.reshape(matrix, newshape=(matrix.size,))\n",
    "\n",
    "    y_guess = np.ndarray(shape=(2,), dtype=np.complex)\n",
    "\n",
    "    if mode == \"transmission\":\n",
    "        print(\"Transmission not doing anything yet.\")\n",
    "\n",
    "    if mode == \"reflection\":\n",
    "        y_guess[0] = np.array([1.0], dtype=np.complex)\n",
    "        y_guess[1] = np.array([.5], dtype=np.complex)\n",
    "    \n",
    "        result_detail = solve_ivp(_rhs,\n",
    "                                 t_span=z,\n",
    "                                 y0=y_guess)\n",
    "        # diffracted wave solution\n",
    "        s_wave_sol = result_detail.y[1]\n",
    "        "
   ]
  },
  {
   "cell_type": "code",
   "execution_count": 21,
   "metadata": {},
   "outputs": [
    {
     "data": {
      "text/plain": [
       "array([-0.-1.99256661e-15j, -0.-4.75998887e-02j,  0.+6.73164082e-02j,\n",
       "        0.-5.63582944e-15j])"
      ]
     },
     "execution_count": 21,
     "metadata": {},
     "output_type": "execute_result"
    }
   ],
   "source": [
    "matrix"
   ]
  },
  {
   "cell_type": "code",
   "execution_count": 31,
   "metadata": {},
   "outputs": [],
   "source": [
    "from scipy.optimize import minimize, least_squares, leastsq"
   ]
  },
  {
   "cell_type": "code",
   "execution_count": 32,
   "metadata": {},
   "outputs": [],
   "source": [
    "bv = np.zeros(shape=(2, 2), dtype=np.complex)*np.nan\n",
    "bv[0, 0] = 1\n",
    "bv[1, 1] = 0.0\n",
    "\n",
    "def find_solution(rhs, t_span, y0):\n",
    "    iv = np.array([1, y0], dtype=np.complex)\n",
    "    result_detail = solve_ivp(rhs, t_span=t_span, y0=iv)\n",
    "    solutions = result_detail.y\n",
    "    bv_sol = np.zeros(shape=(solutions.shape[0], 2), dtype=np.complex)\n",
    "    for i in range(bv.shape[0]):\n",
    "        bv_sol[i, 0] = solutions[i, 0]\n",
    "        bv_sol[i, -1] = solutions[i, -1]\n",
    "    return bv_sol\n",
    "\n",
    "def loss_func(x, rhs, t_span, bv):\n",
    "        \n",
    "    bv_sol = find_solution(rhs, t_span, x)\n",
    "\n",
    "    loss = np.nansum(np.abs(bv-bv_sol)**2)\n",
    "\n",
    "    return loss\n",
    "\n",
    "def solve_bvp_by_shooting(rhs, t_span, bv, y20 = 0.001):\n",
    "    \n",
    "#     result = minimize(fun=loss_func, x0=y20, args=(rhs, t_span, bv))\n",
    "    result = leastsq(func=loss_func, x0=y20, args=(rhs, t_span, bv))\n",
    "    \n",
    "    return result"
   ]
  },
  {
   "cell_type": "code",
   "execution_count": 38,
   "metadata": {},
   "outputs": [],
   "source": [
    "sol = solve_bvp_by_shooting(_rhs, bv=bv, t_span=z, y20=-0.5)"
   ]
  },
  {
   "cell_type": "code",
   "execution_count": null,
   "metadata": {},
   "outputs": [],
   "source": []
  },
  {
   "cell_type": "code",
   "execution_count": 25,
   "metadata": {},
   "outputs": [],
   "source": [
    "z_new = np.linspace(0, 50, 1001)"
   ]
  },
  {
   "cell_type": "code",
   "execution_count": 26,
   "metadata": {},
   "outputs": [
    {
     "data": {
      "text/plain": [
       "array([[1.        +0.j        , 1.00000401-0.00119j   ],\n",
       "       [0.5       +0.j        , 0.500002  +0.00336582j]])"
      ]
     },
     "execution_count": 26,
     "metadata": {},
     "output_type": "execute_result"
    }
   ],
   "source": [
    "find_solution(_rhs, z_new, .5)"
   ]
  },
  {
   "cell_type": "code",
   "execution_count": 27,
   "metadata": {},
   "outputs": [
    {
     "data": {
      "text/plain": [
       "array([0.-1.99256661e-15j, 0.+6.73164082e-02j])"
      ]
     },
     "execution_count": 27,
     "metadata": {},
     "output_type": "execute_result"
    }
   ],
   "source": [
    "_rhs(None, np.array([1, 0]))"
   ]
  },
  {
   "cell_type": "code",
   "execution_count": null,
   "metadata": {},
   "outputs": [],
   "source": []
  },
  {
   "cell_type": "code",
   "execution_count": 28,
   "metadata": {},
   "outputs": [
    {
     "data": {
      "text/plain": [
       "(2, 6)"
      ]
     },
     "execution_count": 28,
     "metadata": {},
     "output_type": "execute_result"
    }
   ],
   "source": [
    "result_detail.y.shape"
   ]
  },
  {
   "cell_type": "code",
   "execution_count": 29,
   "metadata": {},
   "outputs": [
    {
     "data": {
      "text/plain": [
       "array([[-0.-1.99256661e-15j, -0.-4.75998887e-02j],\n",
       "       [ 0.+6.73164082e-02j,  0.-5.63582944e-15j]])"
      ]
     },
     "execution_count": 29,
     "metadata": {},
     "output_type": "execute_result"
    }
   ],
   "source": [
    "np.reshape(matrix, newshape=(2,2))"
   ]
  },
  {
   "cell_type": "code",
   "execution_count": null,
   "metadata": {},
   "outputs": [],
   "source": []
  },
  {
   "cell_type": "code",
   "execution_count": null,
   "metadata": {},
   "outputs": [],
   "source": []
  },
  {
   "cell_type": "code",
   "execution_count": null,
   "metadata": {},
   "outputs": [],
   "source": []
  },
  {
   "cell_type": "code",
   "execution_count": 30,
   "metadata": {},
   "outputs": [
    {
     "ename": "SyntaxError",
     "evalue": "'break' outside loop (<ipython-input-30-6aaf1f276005>, line 4)",
     "output_type": "error",
     "traceback": [
      "\u001b[1;36m  File \u001b[1;32m\"<ipython-input-30-6aaf1f276005>\"\u001b[1;36m, line \u001b[1;32m4\u001b[0m\n\u001b[1;31mSyntaxError\u001b[0m\u001b[1;31m:\u001b[0m 'break' outside loop\n"
     ]
    }
   ],
   "source": [
    "break"
   ]
  },
  {
   "cell_type": "code",
   "execution_count": null,
   "metadata": {
    "scrolled": true
   },
   "outputs": [],
   "source": [
    "# DE, _ = solver.get_efficiency_at_points([GCS.origin], wavelengths=wavelengths, analytical_aid=True, tol=0.001, \n",
    "#                                      max_nodes=int(1e6))\n",
    "\n",
    "# plt.plot(wavelengths/1e-9, DE[0], '.-')"
   ]
  },
  {
   "cell_type": "code",
   "execution_count": null,
   "metadata": {},
   "outputs": [],
   "source": [
    "def get_bandwidth_spectral_at_points(points:Callable):\n",
    "    pass"
   ]
  },
  {
   "cell_type": "code",
   "execution_count": null,
   "metadata": {},
   "outputs": [],
   "source": [
    "kt.solve_default"
   ]
  },
  {
   "cell_type": "code",
   "execution_count": null,
   "metadata": {},
   "outputs": [],
   "source": []
  },
  {
   "cell_type": "code",
   "execution_count": null,
   "metadata": {},
   "outputs": [],
   "source": []
  },
  {
   "cell_type": "code",
   "execution_count": null,
   "metadata": {},
   "outputs": [],
   "source": []
  },
  {
   "cell_type": "code",
   "execution_count": null,
   "metadata": {},
   "outputs": [],
   "source": [
    "break"
   ]
  },
  {
   "cell_type": "code",
   "execution_count": null,
   "metadata": {},
   "outputs": [],
   "source": [
    "K_mag = solver.get_k_hologram_at_points([GCS.origin])[0].magnitude()\n",
    "bw_spectral = np.pi*(4*np.pi*pp_org.n(660e-9))/hoe.thickness/K_mag**2 * 2 * 2\n",
    "\n",
    "bw_spectral"
   ]
  },
  {
   "cell_type": "code",
   "execution_count": null,
   "metadata": {},
   "outputs": [],
   "source": []
  },
  {
   "cell_type": "code",
   "execution_count": null,
   "metadata": {},
   "outputs": [],
   "source": [
    "def update_angle(angle, solver):\n",
    "    src = solver.playback.source\n",
    "    \n",
    "    src.direction = [-np.sin(np.deg2rad(angle)), 0, -np.cos(np.deg2rad(angle))]\n",
    "    \n",
    "    return solver"
   ]
  },
  {
   "cell_type": "code",
   "execution_count": null,
   "metadata": {
    "scrolled": true
   },
   "outputs": [],
   "source": [
    "angles = np.linspace(-5, 5, 201)\n",
    "\n",
    "solver_funcs = [solvers.Response.get_efficiency_at_points]\n",
    "\n",
    "DE = sweep(angles, [GCS.origin], update_func=update_angle, solver=solver, solver_funcs=solver_funcs, verbose=True)"
   ]
  },
  {
   "cell_type": "code",
   "execution_count": null,
   "metadata": {},
   "outputs": [],
   "source": [
    "plt.plot(angles, -DE.squeeze())"
   ]
  },
  {
   "cell_type": "code",
   "execution_count": null,
   "metadata": {},
   "outputs": [],
   "source": []
  }
 ],
 "metadata": {
  "kernelspec": {
   "display_name": "Python 3",
   "language": "python",
   "name": "python3"
  },
  "language_info": {
   "codemirror_mode": {
    "name": "ipython",
    "version": 3
   },
   "file_extension": ".py",
   "mimetype": "text/x-python",
   "name": "python",
   "nbconvert_exporter": "python",
   "pygments_lexer": "ipython3",
   "version": "3.7.3"
  }
 },
 "nbformat": 4,
 "nbformat_minor": 2
}
